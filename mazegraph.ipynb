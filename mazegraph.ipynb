{
 "cells": [
  {
   "cell_type": "code",
   "execution_count": 42,
   "metadata": {},
   "outputs": [],
   "source": [
    "def find_path(graph, start, end, path=[]):\n",
    "    path = path + [start]\n",
    "    if start == end:\n",
    "        return path\n",
    "    if start not in graph:\n",
    "        return None\n",
    "    for node in graph[start]:\n",
    "        if node not in path:\n",
    "            newpath = find_path(graph, node, end, path)\n",
    "            if newpath: return newpath\n",
    "    return None"
   ]
  },
  {
   "cell_type": "code",
   "execution_count": 43,
   "metadata": {},
   "outputs": [],
   "source": [
    "graph = {'A': ['B', 'C'],\n",
    "             'B': ['C', 'D'],\n",
    "             'C': ['D'],\n",
    "             'D': ['C'],\n",
    "             'E': ['F'],\n",
    "             'F': ['C']}"
   ]
  },
  {
   "cell_type": "code",
   "execution_count": 44,
   "metadata": {},
   "outputs": [
    {
     "data": {
      "text/plain": [
       "['A', 'B', 'C', 'D']"
      ]
     },
     "execution_count": 44,
     "metadata": {},
     "output_type": "execute_result"
    }
   ],
   "source": [
    "find_path(graph, 'A', 'D')"
   ]
  },
  {
   "cell_type": "code",
   "execution_count": 45,
   "metadata": {},
   "outputs": [],
   "source": [
    "## maze S-> start point\n",
    "## maze E-> End point\n",
    "## 1--> wall (cannot move)\n",
    "## 0--> you can move\n",
    "maze=[[0,0,0,0,1,0,0,0,1],\n",
    "      [0,0,1,0,0,0,0,0,0],\n",
    "      [0,0,0,'S',0,0,1,0,0],\n",
    "      [0,0,0,0,0,0,1,0,0],\n",
    "      [0,0,0,0,0,0,'E',0,1],\n",
    "      [0,0,0,0,0,0,0,0,1],\n",
    "      [0,1,0,0,0,1,0,0,0]\n",
    "     ]"
   ]
  },
  {
   "cell_type": "code",
   "execution_count": 61,
   "metadata": {},
   "outputs": [],
   "source": [
    "mydict=dict()\n",
    "mytemplist=[]\n",
    "## maze moving downwards\n",
    "for col in range(0,len(maze[0])):\n",
    "    templist=[]\n",
    "    for row in range(0,len(maze)-1):\n",
    "        if maze[row][col]==0 or maze[row][col]=='S' or maze[row][col]=='E':\n",
    "            if maze[row+1][col]==0 or maze[row+1][col]=='S' or maze[row+1][col]=='E':#checking next element\n",
    "                k=str(row+1)+str(col)\n",
    "                mytemplist.append(k)\n",
    "                mydict[str(row)+str(col)]=mytemplist\n",
    "                mytemplist=[]\n",
    "### maze moving forward\n",
    "for row in range(0,len(maze)):\n",
    "    templist=[]\n",
    "    for col in range(0,len(maze[0])-1):\n",
    "        if maze[row][col]==0 or maze[row][col]=='S' or maze[row][col]=='E':\n",
    "            if maze[row][col+1]==0 or maze[row][col+1]=='S' or maze[row][col+1]=='E':\n",
    "                k=str(row)+str(col)\n",
    "                if k in mydict:# if item is already there in dictionary then append the value to it that should be list element\n",
    "                    mydict[str(row)+str(col)].append(str(row)+str(col+1))\n",
    "                else:\n",
    "                    k=str(row)+str(col+1)\n",
    "                    mytemplist.append(k)\n",
    "                    mydict[str(row)+str(col)]=mytemplist\n",
    "                    mytemplist=[]\n",
    "### maze moving backward\n",
    "for row in range(0,len(maze)):\n",
    "    templist=[]\n",
    "    for col in range(len(maze[0])-1,1,-1):\n",
    "        if maze[row][col]==0 or maze[row][col]=='S' or maze[row][col]=='E':\n",
    "            if maze[row][col-1]==0 or maze[row][col-1]=='S' or maze[row][col-1]=='E':\n",
    "                k=str(row)+str(col)\n",
    "                if k in mydict:\n",
    "                    mydict[str(row)+str(col)].append(str(row)+str(col-1))\n",
    "                else:\n",
    "                    k=str(row)+str(col-1)\n",
    "                    mytemplist.append(k)\n",
    "                    mydict[str(row)+str(col)]=mytemplist\n",
    "                    mytemplist=[]\n",
    "### maze moving upwards                    \n",
    "for col in range(0,len(maze[0])):\n",
    "    templist=[]\n",
    "    for row in range(len(maze)-1,1,-1):\n",
    "        if maze[row][col]==0 or maze[row][col]=='S' or maze[row][col]=='E':\n",
    "            if maze[row-1][col]==0 or maze[row-1][col]=='S' or maze[row-1][col]=='E':\n",
    "                k=str(row)+str(col)\n",
    "                if k in mydict:\n",
    "                    mydict[str(row)+str(col)].append(str(row-1)+str(col))\n",
    "                else:\n",
    "                    k=str(row-1)+str(col)\n",
    "                    mytemplist.append(k)\n",
    "                    mydict[str(row)+str(col)]=mytemplist\n",
    "                    mytemplist=[]"
   ]
  },
  {
   "cell_type": "code",
   "execution_count": null,
   "metadata": {},
   "outputs": [],
   "source": []
  },
  {
   "cell_type": "code",
   "execution_count": 62,
   "metadata": {},
   "outputs": [
    {
     "data": {
      "text/plain": [
       "['23',\n",
       " '33',\n",
       " '43',\n",
       " '53',\n",
       " '63',\n",
       " '64',\n",
       " '54',\n",
       " '55',\n",
       " '56',\n",
       " '66',\n",
       " '67',\n",
       " '57',\n",
       " '47',\n",
       " '46']"
      ]
     },
     "execution_count": 62,
     "metadata": {},
     "output_type": "execute_result"
    }
   ],
   "source": [
    "find_path(mydict, '23', '46')"
   ]
  },
  {
   "cell_type": "code",
   "execution_count": 10,
   "metadata": {},
   "outputs": [
    {
     "data": {
      "text/plain": [
       "'S'"
      ]
     },
     "execution_count": 10,
     "metadata": {},
     "output_type": "execute_result"
    }
   ],
   "source": []
  },
  {
   "cell_type": "code",
   "execution_count": 11,
   "metadata": {},
   "outputs": [
    {
     "data": {
      "text/plain": [
       "'E'"
      ]
     },
     "execution_count": 11,
     "metadata": {},
     "output_type": "execute_result"
    }
   ],
   "source": [
    "maze[4][18]"
   ]
  },
  {
   "cell_type": "code",
   "execution_count": null,
   "metadata": {},
   "outputs": [],
   "source": []
  },
  {
   "cell_type": "code",
   "execution_count": null,
   "metadata": {},
   "outputs": [],
   "source": []
  },
  {
   "cell_type": "code",
   "execution_count": null,
   "metadata": {},
   "outputs": [],
   "source": []
  },
  {
   "cell_type": "code",
   "execution_count": 57,
   "metadata": {},
   "outputs": [],
   "source": [
    "def find_all_paths(graph, start, end, path=[]):\n",
    "    path = path + [start]\n",
    "    if start == end:\n",
    "        return [path]\n",
    "    if start not in graph:\n",
    "        return []\n",
    "    paths = []\n",
    "    for node in graph[start]:\n",
    "        if node not in path:\n",
    "            newpaths = find_all_paths(graph, node, end, path)\n",
    "            for newpath in newpaths:\n",
    "                paths.append(newpath)\n",
    "    return paths"
   ]
  },
  {
   "cell_type": "code",
   "execution_count": 58,
   "metadata": {},
   "outputs": [],
   "source": [
    "def find_shortest_path(graph, start, end, path=[]):\n",
    "    path = path + [start]\n",
    "    if start == end:\n",
    "        return path\n",
    "    if start not in graph:\n",
    "        return None\n",
    "    shortest = None\n",
    "    for node in graph[start]:\n",
    "        if node not in path:\n",
    "            newpath = find_shortest_path(graph, node, end, path)\n",
    "            if newpath:\n",
    "                if not shortest or len(newpath) < len(shortest):\n",
    "                    shortest = newpath\n",
    "    return shortest"
   ]
  },
  {
   "cell_type": "code",
   "execution_count": 64,
   "metadata": {},
   "outputs": [
    {
     "ename": "NameError",
     "evalue": "name 'deque' is not defined",
     "output_type": "error",
     "traceback": [
      "\u001b[0;31m---------------------------------------------------------------------------\u001b[0m",
      "\u001b[0;31mNameError\u001b[0m                                 Traceback (most recent call last)",
      "\u001b[0;32m<ipython-input-64-96ccd64a7ff1>\u001b[0m in \u001b[0;36m<module>\u001b[0;34m()\u001b[0m\n\u001b[1;32m      1\u001b[0m \u001b[0;31m#find_all_paths(mydict, '23', '46')\u001b[0m\u001b[0;34m\u001b[0m\u001b[0;34m\u001b[0m\u001b[0m\n\u001b[0;32m----> 2\u001b[0;31m \u001b[0mfind_shortest_path\u001b[0m\u001b[0;34m(\u001b[0m\u001b[0mmydict\u001b[0m\u001b[0;34m,\u001b[0m \u001b[0;34m'23'\u001b[0m\u001b[0;34m,\u001b[0m \u001b[0;34m'46'\u001b[0m\u001b[0;34m)\u001b[0m\u001b[0;34m\u001b[0m\u001b[0m\n\u001b[0m",
      "\u001b[0;32m<ipython-input-63-ee92216dbe7c>\u001b[0m in \u001b[0;36mfind_shortest_path\u001b[0;34m(graph, start, end)\u001b[0m\n\u001b[1;32m      1\u001b[0m \u001b[0;32mdef\u001b[0m \u001b[0mfind_shortest_path\u001b[0m\u001b[0;34m(\u001b[0m\u001b[0mgraph\u001b[0m\u001b[0;34m,\u001b[0m \u001b[0mstart\u001b[0m\u001b[0;34m,\u001b[0m \u001b[0mend\u001b[0m\u001b[0;34m)\u001b[0m\u001b[0;34m:\u001b[0m\u001b[0;34m\u001b[0m\u001b[0m\n\u001b[1;32m      2\u001b[0m     \u001b[0mdist\u001b[0m \u001b[0;34m=\u001b[0m \u001b[0;34m{\u001b[0m\u001b[0mstart\u001b[0m\u001b[0;34m:\u001b[0m \u001b[0;34m[\u001b[0m\u001b[0mstart\u001b[0m\u001b[0;34m]\u001b[0m\u001b[0;34m}\u001b[0m\u001b[0;34m\u001b[0m\u001b[0m\n\u001b[0;32m----> 3\u001b[0;31m     \u001b[0mq\u001b[0m \u001b[0;34m=\u001b[0m \u001b[0mdeque\u001b[0m\u001b[0;34m(\u001b[0m\u001b[0mstart\u001b[0m\u001b[0;34m)\u001b[0m\u001b[0;34m\u001b[0m\u001b[0m\n\u001b[0m\u001b[1;32m      4\u001b[0m     \u001b[0;32mwhile\u001b[0m \u001b[0mlen\u001b[0m\u001b[0;34m(\u001b[0m\u001b[0mq\u001b[0m\u001b[0;34m)\u001b[0m\u001b[0;34m:\u001b[0m\u001b[0;34m\u001b[0m\u001b[0m\n\u001b[1;32m      5\u001b[0m         \u001b[0mat\u001b[0m \u001b[0;34m=\u001b[0m \u001b[0mq\u001b[0m\u001b[0;34m.\u001b[0m\u001b[0mpopleft\u001b[0m\u001b[0;34m(\u001b[0m\u001b[0;34m)\u001b[0m\u001b[0;34m\u001b[0m\u001b[0m\n",
      "\u001b[0;31mNameError\u001b[0m: name 'deque' is not defined"
     ]
    }
   ],
   "source": [
    "#find_all_paths(mydict, '23', '46')\n",
    "find_shortest_path(mydict, '23', '46')"
   ]
  },
  {
   "cell_type": "code",
   "execution_count": 51,
   "metadata": {},
   "outputs": [
    {
     "data": {
      "text/plain": [
       "9"
      ]
     },
     "execution_count": 51,
     "metadata": {},
     "output_type": "execute_result"
    }
   ],
   "source": [
    "len(maze[0])"
   ]
  },
  {
   "cell_type": "code",
   "execution_count": 63,
   "metadata": {},
   "outputs": [],
   "source": [
    "def find_shortest_path(graph, start, end):\n",
    "    dist = {start: [start]}\n",
    "    q = deque(start)\n",
    "    while len(q):\n",
    "        at = q.popleft()\n",
    "        for next in graph[at]:\n",
    "            if next not in dist:\n",
    "                dist[next] = [dist[at], next]\n",
    "                q.append(next)\n",
    "    return dist[end]"
   ]
  },
  {
   "cell_type": "code",
   "execution_count": null,
   "metadata": {},
   "outputs": [],
   "source": []
  }
 ],
 "metadata": {
  "kernelspec": {
   "display_name": "Python 3",
   "language": "python",
   "name": "python3"
  },
  "language_info": {
   "codemirror_mode": {
    "name": "ipython",
    "version": 3
   },
   "file_extension": ".py",
   "mimetype": "text/x-python",
   "name": "python",
   "nbconvert_exporter": "python",
   "pygments_lexer": "ipython3",
   "version": "3.6.4"
  }
 },
 "nbformat": 4,
 "nbformat_minor": 2
}
