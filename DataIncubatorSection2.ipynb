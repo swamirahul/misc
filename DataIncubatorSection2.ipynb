{
 "cells": [
  {
   "cell_type": "code",
   "execution_count": null,
   "metadata": {},
   "outputs": [],
   "source": [
    "# Question: walk in a 2 d space:  find possible paths person can move only 1 unit at a time m is moves for 2 moves\n",
    "# we get 6 possilbe answers \n",
    "# and grid lenth is [0,1,2] so person can only moves in between 0 and 2\n",
    "        :- start point:      (0,0)\n",
    "First possible moves: points (0,0)-->(0,1)\n",
    "                             (0,0)-->(1,0)\n",
    "Second possible moves: points(0,0)-->(0,1)-->(0,0)\n",
    "                             (0,0)-->(0,1)-->(0,2)\n",
    "                             (0,0)-->(0,1)-->(1,1)\n",
    "                             (0,0)-->(1,0)-->(0,0)\n",
    "                             (0,0)-->(1,0)-->(2,0)\n",
    "                             (0,0)-->(1,0)-->(1,1)  \n",
    "                        "
   ]
  },
  {
   "cell_type": "code",
   "execution_count": null,
   "metadata": {},
   "outputs": [],
   "source": [
    "# now its 4 D space moves m = 10\n",
    "# grid length = [0,1,2,3,4,5,6,7,9]\n",
    "#start point [0,0,0,0] find all possible valid paths\n",
    "# how Cuda is used\n",
    "# how code is optimized"
   ]
  },
  {
   "cell_type": "code",
   "execution_count": 29,
   "metadata": {},
   "outputs": [
    {
     "name": "stdout",
     "output_type": "stream",
     "text": [
      "{(0, 0): 2, (0, 2): 1, (1, 1): 2, (2, 0): 1} Hello\n",
      "{(0, 1): 5, (1, 0): 5, (0, 3): 1, (1, 2): 3, (2, 1): 3, (3, 0): 1} Hello\n",
      "{(0, 0): 10, (0, 2): 9, (1, 1): 16, (2, 0): 9, (0, 4): 1, (1, 3): 4, (2, 2): 6, (3, 1): 4, (4, 0): 1} Hello\n",
      "{(0, 1): 35, (1, 0): 35, (0, 3): 14, (1, 2): 35, (2, 1): 35, (3, 0): 14, (0, 5): 1, (1, 4): 5, (2, 3): 10, (3, 2): 10, (4, 1): 5, (5, 0): 1} Hello\n",
      "{(0, 0): 70, (0, 2): 84, (1, 1): 140, (2, 0): 84, (0, 4): 20, (1, 3): 64, (2, 2): 90, (3, 1): 64, (4, 0): 20, (0, 6): 1, (1, 5): 6, (2, 4): 15, (3, 3): 20, (4, 2): 15, (5, 1): 6, (6, 0): 1} Hello\n",
      "{(0, 1): 294, (1, 0): 294, (0, 3): 168, (1, 2): 378, (2, 1): 378, (3, 0): 168, (0, 5): 27, (1, 4): 105, (2, 3): 189, (3, 2): 189, (4, 1): 105, (5, 0): 27, (0, 7): 1, (1, 6): 7, (2, 5): 21, (3, 4): 35, (4, 3): 35, (5, 2): 21, (6, 1): 7, (7, 0): 1} Hello\n",
      "{(0, 0): 588, (0, 2): 840, (1, 1): 1344, (2, 0): 840, (0, 4): 300, (1, 3): 840, (2, 2): 1134, (3, 1): 840, (4, 0): 300, (0, 6): 35, (1, 5): 160, (2, 4): 350, (3, 3): 448, (4, 2): 350, (5, 1): 160, (6, 0): 35, (0, 8): 1, (1, 7): 8, (2, 6): 28, (3, 5): 56, (4, 4): 70, (5, 3): 56, (6, 2): 28, (7, 1): 8, (8, 0): 1} Hello\n"
     ]
    }
   ],
   "source": [
    "import numpy as np \n",
    "import itertools\n",
    "from collections import Counter\n",
    "import pandas as pd\n",
    "\n",
    "\n",
    "def checkdigitsame(arr1,arr2,dimension):\n",
    "    counter=0\n",
    "    for i in range(0,dimension):\n",
    "        if arr1[i]==arr2[i]:\n",
    "            counter=counter+1\n",
    "    if counter==dimension-1:\n",
    "        return True\n",
    "    else:\n",
    "        return False\n",
    "\n",
    "def possiblepath(startnode,finalcombinationnp,dimension):\n",
    "    templist=[]\n",
    "    for j in range(0,len(finalcombinationnp)):\n",
    "        if checkdigitsame(startnode,finalcombinationnp[j],dimension)==True:\n",
    "            if sum(startnode-finalcombinationnp[j])==1 or sum(startnode-finalcombinationnp[j])==-1:\n",
    "                #print(finalcombinationnp[j])\n",
    "                templist.append(list(finalcombinationnp[j]))\n",
    "    return templist         \n",
    "\n",
    "def allpossiblepath(patharray):\n",
    "    # patharray is numpy array\n",
    "    templist=[]\n",
    "    for rt in range(0,len(patharray)):\n",
    "        tempnp1=possiblepath(patharray[rt],finalcombinationnp,dimension)\n",
    "        templist.extend(tempnp1)\n",
    "    return templist\n",
    "\n",
    "x = [0, 1, 2,3,4,5,6,7,8,9]\n",
    "finalcombinationlist=[p for p in itertools.product(x, repeat=2)]\n",
    "finalcombinationnp=np.asarray(finalcombinationlist)    \n",
    "m=8\n",
    "dimension=2\n",
    "tempnp=possiblepath(finalcombinationnp[0],finalcombinationnp,dimension)\n",
    "\n",
    "for h in range(0,m-1):\n",
    "    templist=allpossiblepath(tempnp)\n",
    "    tempnp=np.asarray(templist)\n",
    "    b = {}\n",
    "    for i in range(0, len(templist), 1):\n",
    "        if tuple(templist[i]) in b:\n",
    "            b[tuple(templist[i])] +=1\n",
    "        else:\n",
    "            b[tuple(templist[i])]=1\n",
    "            \n",
    "    print(b,\"Hello\")\n",
    "    \n",
    "\n"
   ]
  },
  {
   "cell_type": "code",
   "execution_count": 65,
   "metadata": {},
   "outputs": [
    {
     "name": "stdout",
     "output_type": "stream",
     "text": [
      "The summation dictionary is : {(0, 0): 3, (0, 2): 3, (1, 1): 4, (2, 0): 1, (3, 0): 1}\n"
     ]
    },
    {
     "data": {
      "text/plain": [
       "{(0, 0): 1, (0, 2): 2, (1, 1): 2, (2, 0): 1, (3, 0): 1}"
      ]
     },
     "execution_count": 65,
     "metadata": {},
     "output_type": "execute_result"
    }
   ],
   "source": [
    "test_dict1={(0, 0): 2, (0, 2): 1, (1, 1): 2, (2, 0): 1}\n",
    "z=test_dict1.copy()\n",
    "test_dict2={(0, 0): 1, (0, 2): 2, (1, 1): 2, (3, 0): 1}\n",
    "z.update(test_dict2)\n",
    "#dict(z.items()+z1.items())\n",
    "# Using Counter() + \"-\" operator \n",
    "# Subtraction of dictionaries \n",
    "#temp1 = Counter(z) \n",
    "res = {key: test_dict2.get(key, 0) + test_dict1.get(key, 0) \n",
    "                       for key in z.keys()} \n",
    "  \n",
    "# printing result  \n",
    "print(\"The summation dictionary is : \" + str(res)) \n",
    "z"
   ]
  },
  {
   "cell_type": "code",
   "execution_count": 51,
   "metadata": {},
   "outputs": [
    {
     "data": {
      "text/plain": [
       "{(0, 0): 1, (0, 2): 2, (1, 1): 2, (2, 0): 1, (3, 0): 1}"
      ]
     },
     "execution_count": 51,
     "metadata": {},
     "output_type": "execute_result"
    }
   ],
   "source": [
    "test_dict1"
   ]
  },
  {
   "cell_type": "code",
   "execution_count": 5,
   "metadata": {},
   "outputs": [
    {
     "data": {
      "text/plain": [
       "200"
      ]
     },
     "execution_count": 5,
     "metadata": {},
     "output_type": "execute_result"
    }
   ],
   "source": [
    "len(tempnp)"
   ]
  },
  {
   "cell_type": "code",
   "execution_count": 62,
   "metadata": {},
   "outputs": [
    {
     "name": "stdout",
     "output_type": "stream",
     "text": [
      "[[0 0 0 1]\n",
      " [0 0 1 0]\n",
      " [0 1 0 0]\n",
      " [1 0 0 0]]\n",
      "{(0, 0, 0, 0): 4, (0, 0, 0, 2): 1, (0, 0, 1, 1): 2, (0, 1, 0, 1): 2, (1, 0, 0, 1): 2, (0, 0, 2, 0): 1, (0, 1, 1, 0): 2, (1, 0, 1, 0): 2, (0, 2, 0, 0): 1, (1, 1, 0, 0): 2, (2, 0, 0, 0): 1} Hello\n",
      "with GPU: 0.7384677459485829\n"
     ]
    }
   ],
   "source": [
    "import numpy as np\n",
    "from numba import njit, cuda \n",
    "from timeit import default_timer as timer\n",
    "start = timer()  \n",
    "    \n",
    "startpoint=[0,0,0,0]\n",
    "postivearray=[[0,0,0,1],[0,0,1,0],[0,1,0,0],[1,0,0,0]]\n",
    "postivearraynp=np.asarray(postivearray)\n",
    "neagativearray=[[0,0,0,-1],[0,0,-1,0],[0,-1,0,0],[-1,0,0,0]]\n",
    "neagativearraynp=np.asarray(neagativearray)\n",
    "snp=np.asarray(startpoint)\n",
    "\n",
    "@njit\n",
    "def addarray(snp):\n",
    "    templist=[]\n",
    "    for i in range(0,len(snp)):\n",
    "        checkarray=snp+postivearraynp[i]\n",
    "        if ((checkarray<10).sum())==4:\n",
    "            templist.append(list(checkarray))\n",
    "    return templist \n",
    "@njit\n",
    "def subarray(snp):\n",
    "    templist=[]\n",
    "    for i in range(0,len(snp)):\n",
    "        checkarray=snp+neagativearraynp[i]\n",
    "        if ((checkarray>=0).sum())==4:\n",
    "            templist.append(list(checkarray))\n",
    "    return templist \n",
    "@njit\n",
    "def finalarray(snp):\n",
    "    return subarray(snp)+addarray(snp)\n",
    "\n",
    "def allpossiblepath1(patharray):\n",
    "    # patharray is numpy array\n",
    "    templist=[]\n",
    "    for rt in range(0,len(patharray)):\n",
    "        tempnp1=finalarray(patharray[rt])\n",
    "        templist.extend(tempnp1)\n",
    "    return templist\n",
    "def allpossiblepath1(Uniquedict):\n",
    "    \n",
    "m=2\n",
    "tempnp=np.asarray(finalarray(snp))\n",
    "print(tempnp)\n",
    "for h in range(0,m-1):\n",
    "    templist=allpossiblepath1(tempnp)\n",
    "    tempnp=np.asarray(templist)\n",
    "    b = {}\n",
    "    for i in range(0, len(templist), 1):\n",
    "        if tuple(templist[i]) in b:\n",
    "            b[tuple(templist[i])] +=1\n",
    "        else:\n",
    "            b[tuple(templist[i])]=1\n",
    "            \n",
    "    print(b,\"Hello\")\n",
    "print(\"with GPU:\", timer()-start)      "
   ]
  },
  {
   "cell_type": "code",
   "execution_count": 207,
   "metadata": {},
   "outputs": [],
   "source": [
    "def finalarray(snp):\n",
    "    return subarray(snp)+addarray(snp)"
   ]
  },
  {
   "cell_type": "code",
   "execution_count": 1,
   "metadata": {},
   "outputs": [
    {
     "ename": "NameError",
     "evalue": "name 'np' is not defined",
     "output_type": "error",
     "traceback": [
      "\u001b[0;31m---------------------------------------------------------------------------\u001b[0m",
      "\u001b[0;31mNameError\u001b[0m                                 Traceback (most recent call last)",
      "\u001b[0;32m<ipython-input-1-e77bdb4fa9a3>\u001b[0m in \u001b[0;36m<module>\u001b[0;34m()\u001b[0m\n\u001b[1;32m      7\u001b[0m     \u001b[0;32mreturn\u001b[0m \u001b[0mtemplist\u001b[0m\u001b[0;34m\u001b[0m\u001b[0m\n\u001b[1;32m      8\u001b[0m \u001b[0mm\u001b[0m\u001b[0;34m=\u001b[0m\u001b[0;36m6\u001b[0m\u001b[0;34m\u001b[0m\u001b[0m\n\u001b[0;32m----> 9\u001b[0;31m \u001b[0mtempnp\u001b[0m\u001b[0;34m=\u001b[0m\u001b[0mnp\u001b[0m\u001b[0;34m.\u001b[0m\u001b[0masarray\u001b[0m\u001b[0;34m(\u001b[0m\u001b[0mfinalarray\u001b[0m\u001b[0;34m(\u001b[0m\u001b[0msnp\u001b[0m\u001b[0;34m)\u001b[0m\u001b[0;34m)\u001b[0m\u001b[0;34m\u001b[0m\u001b[0m\n\u001b[0m\u001b[1;32m     10\u001b[0m \u001b[0;32mfor\u001b[0m \u001b[0mh\u001b[0m \u001b[0;32min\u001b[0m \u001b[0mrange\u001b[0m\u001b[0;34m(\u001b[0m\u001b[0;36m0\u001b[0m\u001b[0;34m,\u001b[0m\u001b[0mm\u001b[0m\u001b[0;34m-\u001b[0m\u001b[0;36m1\u001b[0m\u001b[0;34m)\u001b[0m\u001b[0;34m:\u001b[0m\u001b[0;34m\u001b[0m\u001b[0m\n\u001b[1;32m     11\u001b[0m     \u001b[0mtemplist\u001b[0m\u001b[0;34m=\u001b[0m\u001b[0mallpossiblepath1\u001b[0m\u001b[0;34m(\u001b[0m\u001b[0mtempnp\u001b[0m\u001b[0;34m)\u001b[0m\u001b[0;34m\u001b[0m\u001b[0m\n",
      "\u001b[0;31mNameError\u001b[0m: name 'np' is not defined"
     ]
    }
   ],
   "source": [
    "def allpossiblepath1(patharray):\n",
    "    # patharray is numpy array\n",
    "    templist=[]\n",
    "    for rt in range(0,len(patharray)):\n",
    "        tempnp1=finalarray(patharray[rt])\n",
    "        templist.extend(tempnp1)\n",
    "    return templist\n",
    "m=6\n",
    "tempnp=np.asarray(finalarray(snp))\n",
    "for h in range(0,m-1):\n",
    "    templist=allpossiblepath1(tempnp)\n",
    "    tempnp=np.asarray(templist)\n",
    "    print(len(tempnp))"
   ]
  },
  {
   "cell_type": "code",
   "execution_count": 200,
   "metadata": {},
   "outputs": [
    {
     "data": {
      "text/plain": [
       "[[0, 0, 0, 1], [0, 0, 1, 0], [0, 1, 0, 0], [1, 0, 0, 0]]"
      ]
     },
     "execution_count": 200,
     "metadata": {},
     "output_type": "execute_result"
    }
   ],
   "source": [
    "20\n",
    "108\n",
    "624\n",
    "3760\n",
    "23480\n",
    "150500\n",
    "986440\n",
    "6580224\n",
    "44569724\n",
    "\n",
    "\n",
    "64\n",
    "512\n",
    "4092\n",
    "32640\n",
    "259664\n",
    "\n",
    "64\n",
    "508\n",
    "3992\n",
    "31060\n",
    "239600"
   ]
  },
  {
   "cell_type": "code",
   "execution_count": 194,
   "metadata": {},
   "outputs": [
    {
     "data": {
      "text/plain": [
       "[[0, 0, 1, 1], [0, 0, 2, 0], [0, 1, 1, 0], [1, 0, 1, 0]]"
      ]
     },
     "execution_count": 194,
     "metadata": {},
     "output_type": "execute_result"
    }
   ],
   "source": [
    "addarray(snp)"
   ]
  },
  {
   "cell_type": "code",
   "execution_count": 187,
   "metadata": {},
   "outputs": [
    {
     "data": {
      "text/plain": [
       "3"
      ]
     },
     "execution_count": 187,
     "metadata": {},
     "output_type": "execute_result"
    }
   ],
   "source": [
    "(checkarray>=0).sum()"
   ]
  },
  {
   "cell_type": "code",
   "execution_count": null,
   "metadata": {},
   "outputs": [],
   "source": []
  },
  {
   "cell_type": "code",
   "execution_count": null,
   "metadata": {},
   "outputs": [],
   "source": []
  },
  {
   "cell_type": "code",
   "execution_count": 1,
   "metadata": {},
   "outputs": [
    {
     "name": "stdout",
     "output_type": "stream",
     "text": [
      "without GPU: 6.383536042179912\n",
      "with GPU: 0.8389982068911195\n"
     ]
    }
   ],
   "source": [
    "from numba import jit, cuda \n",
    "import numpy as np \n",
    "# to measure exec time \n",
    "from timeit import default_timer as timer    \n",
    "  \n",
    "# normal function to run on cpu \n",
    "def func(a):                                 \n",
    "    for i in range(10000000): \n",
    "        a[i]+= 1      \n",
    "  \n",
    "# function optimized to run on gpu  \n",
    "@jit                       \n",
    "def func2(a): \n",
    "    for i in range(10000000): \n",
    "        a[i]+= 1\n",
    "if __name__==\"__main__\": \n",
    "    n = 10000000                            \n",
    "    a = np.ones(n, dtype = np.float64) \n",
    "    b = np.ones(n, dtype = np.float32) \n",
    "      \n",
    "    start = timer() \n",
    "    func(a) \n",
    "    print(\"without GPU:\", timer()-start)     \n",
    "      \n",
    "    start = timer() \n",
    "    func2(a) \n",
    "    print(\"with GPU:\", timer()-start)"
   ]
  },
  {
   "cell_type": "code",
   "execution_count": 12,
   "metadata": {},
   "outputs": [],
   "source": [
    "startpoint=[3,3,3,3]\n",
    "postivearray=[[0,0,0,1],[0,0,1,0],[0,1,0,0],[1,0,0,0]]\n",
    "neagativearray=[[0,0,0,-1],[0,0,-1,0],[0,-1,0,0],[-1,0,0,0]]\n",
    "snp=np.asarray(startpoint)\n",
    "postivearray=[[0,0,0,1],[0,0,1,0],[0,1,0,0],[1,0,0,0]]\n",
    "postivearraynp=np.asarray(postivearray)"
   ]
  },
  {
   "cell_type": "code",
   "execution_count": 77,
   "metadata": {},
   "outputs": [
    {
     "name": "stdout",
     "output_type": "stream",
     "text": [
      "with GPU: 0.1748398318886757\n"
     ]
    }
   ],
   "source": [
    "start=timer()\n",
    "for i in range(100000):\n",
    "    t=postivearraynp+snp\n",
    "print(\"with GPU:\", timer()-start) "
   ]
  },
  {
   "cell_type": "code",
   "execution_count": 78,
   "metadata": {},
   "outputs": [
    {
     "name": "stdout",
     "output_type": "stream",
     "text": [
      "with GPU: 0.6206197468563914\n"
     ]
    }
   ],
   "source": [
    "start=timer()\n",
    "for i in range(100000):\n",
    "    t=snp+postivearray\n",
    "print(\"with GPU:\", timer()-start) "
   ]
  },
  {
   "cell_type": "code",
   "execution_count": 79,
   "metadata": {},
   "outputs": [
    {
     "data": {
      "text/plain": [
       "array([[0, 0, 0, 1],\n",
       "       [0, 0, 1, 0],\n",
       "       [0, 1, 0, 0],\n",
       "       [1, 0, 0, 0]])"
      ]
     },
     "execution_count": 79,
     "metadata": {},
     "output_type": "execute_result"
    }
   ],
   "source": [
    "t"
   ]
  },
  {
   "cell_type": "code",
   "execution_count": null,
   "metadata": {},
   "outputs": [
    {
     "name": "stdout",
     "output_type": "stream",
     "text": [
      "64\n",
      "512\n",
      "4096\n",
      "32764\n",
      "261988\n",
      "2093580\n",
      "16714512\n"
     ]
    }
   ],
   "source": [
    "import numpy as np\n",
    "from numba import njit, cuda \n",
    "start = timer()  \n",
    "    \n",
    "startpoint=[0,0,0,0]\n",
    "postivearray=[[0,0,0,1],[0,0,1,0],[0,1,0,0],[1,0,0,0]]\n",
    "postivearraynp=np.asarray(postivearray)\n",
    "neagativearray=[[0,0,0,-1],[0,0,-1,0],[0,-1,0,0],[-1,0,0,0]]\n",
    "neagativearraynp=np.asarray(neagativearray)\n",
    "snp=np.asarray(startpoint)\n",
    "\n",
    "@njit\n",
    "def finalarray(snp):\n",
    "    templist=[]\n",
    "    templist1=[]\n",
    "    for i in range(0,len(snp)):\n",
    "        checkarrayPos=snp+postivearraynp[i]\n",
    "        checkarrayNeg=snp+neagativearraynp[i]\n",
    "        if ((checkarrayPos<10).sum())==4:\n",
    "            templist.append(list(checkarrayPos))\n",
    "\n",
    "        if ((checkarrayNeg>=0).sum())==4:\n",
    "            templist1.append(list(checkarrayNeg))\n",
    "    return templist+templist1 \n",
    "\n",
    "def allpossiblepath1(patharray):\n",
    "    # patharray is numpy array\n",
    "    templist=[]\n",
    "    for rt in range(0,len(patharray)):\n",
    "        tempnp1=finalarray(patharray[rt])\n",
    "        templist.extend(tempnp1)\n",
    "    return templist\n",
    "m=10\n",
    "tempnp=np.asarray(finalarray(snp))\n",
    "for h in range(0,m-1):\n",
    "    templist=allpossiblepath1(tempnp)\n",
    "    tempnp=np.asarray(templist)\n",
    "    print(len(tempnp))\n",
    "print(\"with GPU:\", timer()-start)      "
   ]
  },
  {
   "cell_type": "code",
   "execution_count": 64,
   "metadata": {},
   "outputs": [
    {
     "name": "stdout",
     "output_type": "stream",
     "text": [
      "[[0 0 0 1]\n",
      " [0 0 1 0]\n",
      " [0 1 0 0]\n",
      " [1 0 0 0]]\n",
      "{(0, 0, 0, 0): 4, (0, 0, 0, 2): 1, (0, 0, 1, 1): 2, (0, 1, 0, 1): 2, (1, 0, 0, 1): 2, (0, 0, 2, 0): 1, (0, 1, 1, 0): 2, (1, 0, 1, 0): 2, (0, 2, 0, 0): 1, (1, 1, 0, 0): 2, (2, 0, 0, 0): 1} Hello\n",
      "with GPU: 0.6747189299203455\n"
     ]
    }
   ],
   "source": [
    "import numpy as np\n",
    "from numba import njit, cuda \n",
    "from timeit import default_timer as timer\n",
    "start = timer()  \n",
    "    \n",
    "startpoint=[0,0,0,0]\n",
    "postivearray=[[0,0,0,1],[0,0,1,0],[0,1,0,0],[1,0,0,0]]\n",
    "postivearraynp=np.asarray(postivearray)\n",
    "neagativearray=[[0,0,0,-1],[0,0,-1,0],[0,-1,0,0],[-1,0,0,0]]\n",
    "neagativearraynp=np.asarray(neagativearray)\n",
    "snp=np.asarray(startpoint)\n",
    "\n",
    "@njit\n",
    "def addarray(snp):\n",
    "    templist=[]\n",
    "    for i in range(0,len(snp)):\n",
    "        checkarray=snp+postivearraynp[i]\n",
    "        if ((checkarray<10).sum())==4:\n",
    "            templist.append(list(checkarray))\n",
    "    return templist \n",
    "@njit\n",
    "def subarray(snp):\n",
    "    templist=[]\n",
    "    for i in range(0,len(snp)):\n",
    "        checkarray=snp+neagativearraynp[i]\n",
    "        if ((checkarray>=0).sum())==4:\n",
    "            templist.append(list(checkarray))\n",
    "    return templist \n",
    "@njit\n",
    "def finalarray(snp):\n",
    "    return subarray(snp)+addarray(snp)\n",
    "\n",
    "def allpossiblepath1(patharray):\n",
    "    # patharray is numpy array\n",
    "    templist=[]\n",
    "    for rt in range(0,len(patharray)):\n",
    "        tempnp1=finalarray(patharray[rt])\n",
    "        tempdict = {}\n",
    "        for i in range(0, len(tempnp1), 1):\n",
    "            if tuple(tempnp1[i]) in b:\n",
    "                tempdict[tuple(tempnp1[i])] +=1\n",
    "            else:\n",
    "                tempdict[tuple(tempnp1[i])]=1\n",
    "                \n",
    "        templist.extend(tempnp1)\n",
    "    return templist\n",
    "\n",
    "def allpossiblepath2(tempdictout):\n",
    "    templist=[]\n",
    "    finaldict={}\n",
    "    for key in tempdictout:\n",
    "        tempdict = {}\n",
    "        tempnp1=finalarray(list(key))\n",
    "        for i in range(0, len(tempnp1),1):\n",
    "            tempdict[tuple(tempnp1[i])]=1*int(tempdictout[key])\n",
    "        z=tempdict.copy()\n",
    "        z.update(finaldict)\n",
    "        res = {key: finaldict.get(key, 0) + tempdict.get(key, 0) \n",
    "                       for key in z.keys()} \n",
    "    return res\n",
    "m=2\n",
    "\n",
    "tempnp=np.asarray(finalarray(snp))\n",
    "\n",
    "print(tempnp)\n",
    "for h in range(0,m-1):\n",
    "    templist=allpossiblepath1(tempnp)\n",
    "    tempdict = {}\n",
    "    for i in range(0, len(templist), 1):\n",
    "        if tuple(templist[i]) in b:\n",
    "            tempdict[tuple(templist[i])] +=1\n",
    "        else:\n",
    "            tempdict[tuple(templist[i])]=1\n",
    "    tempnp=np.asarray(templist)\n",
    "    b = {}\n",
    "    for i in range(0, len(templist), 1):\n",
    "        if tuple(templist[i]) in b:\n",
    "            b[tuple(templist[i])] +=1\n",
    "        else:\n",
    "            b[tuple(templist[i])]=1\n",
    "            \n",
    "    print(b,\"Hello\")\n",
    "print(\"with GPU:\", timer()-start)      "
   ]
  },
  {
   "cell_type": "code",
   "execution_count": 135,
   "metadata": {},
   "outputs": [
    {
     "name": "stdout",
     "output_type": "stream",
     "text": [
      "20\n",
      "108\n",
      "624\n",
      "3760\n",
      "23480\n",
      "150500\n",
      "986440\n",
      "6580224\n",
      "44569724\n",
      "with GPU: 1.024014559108764\n"
     ]
    }
   ],
   "source": [
    "#### This is the final code \n",
    "\n",
    "\n",
    "import numpy as np\n",
    "from numba import njit, cuda \n",
    "from timeit import default_timer as timer\n",
    "start = timer()  \n",
    "\n",
    "dimension=4\n",
    "startpoint=(0,0,0,0)\n",
    "postivearray=[]\n",
    "negativearray=[]\n",
    "## generating positive and negative list to move 1 step\n",
    "for i in range(0,len(startpoint)):\n",
    "    templist=list(startpoint)\n",
    "    templist[i]=templist[i]+1\n",
    "    postivearray.append(templist)\n",
    "    \n",
    "    templist1=list(startpoint)\n",
    "    templist1[i]=templist1[i]-1\n",
    "    negativearray.append(templist1)\n",
    "    \n",
    "postivearraynp=np.asarray(postivearray)\n",
    "neagativearraynp=np.asarray(neagativearray)\n",
    "snp=np.asarray(startpoint)\n",
    "\n",
    "@njit # this is to opttmize using cuda\n",
    "def addarray(snp): # return all possilbe moves in positive direction\n",
    "    templist=[]\n",
    "    for i in range(0,len(snp)):\n",
    "        checkarray=snp+postivearraynp[i]\n",
    "        if ((checkarray<10).sum())==4:\n",
    "            templist.append(list(checkarray))\n",
    "    return templist \n",
    "@njit\n",
    "def subarray(snp): # return all possilbe moves in negative direction\n",
    "    templist=[]\n",
    "    for i in range(0,len(snp)):\n",
    "        checkarray=snp+neagativearraynp[i]\n",
    "        if ((checkarray>=0).sum())==4:\n",
    "            templist.append(list(checkarray))\n",
    "    return templist \n",
    "@njit\n",
    "def finalarray(snp):\n",
    "    return subarray(snp)+addarray(snp)\n",
    "def allpossiblepath2(tempdictout):\n",
    "    templist=[]\n",
    "    finaldict={}\n",
    "    for key in tempdictout:\n",
    "        tempdict = {}\n",
    "        tempnp1=finalarray(np.asarray(list(key)))\n",
    "        for i in range(0, len(tempnp1),1):\n",
    "            tempdict[tuple(tempnp1[i])]=1*int(tempdictout[key])\n",
    "        z=tempdict.copy()\n",
    "        z.update(finaldict)\n",
    "        finaldict = {key: finaldict.get(key, 0) + tempdict.get(key, 0) \n",
    "                       for key in z.keys()} \n",
    "    return finaldict\n",
    "templist=finalarray(snp)\n",
    "b={}\n",
    "for i in range(0, len(templist), 1):\n",
    "    b[tuple(templist[i])]=1\n",
    "m=10\n",
    "for h in range(0,m-1):\n",
    "    finaltempdict=allpossiblepath2(b)\n",
    "    b=finaltempdict\n",
    "    print(sum(b.values()))\n",
    "print(\"with GPU:\", timer()-start)      "
   ]
  },
  {
   "cell_type": "code",
   "execution_count": null,
   "metadata": {},
   "outputs": [],
   "source": []
  },
  {
   "cell_type": "code",
   "execution_count": null,
   "metadata": {},
   "outputs": [],
   "source": []
  },
  {
   "cell_type": "code",
   "execution_count": null,
   "metadata": {},
   "outputs": [],
   "source": []
  },
  {
   "cell_type": "code",
   "execution_count": null,
   "metadata": {},
   "outputs": [],
   "source": []
  },
  {
   "cell_type": "code",
   "execution_count": null,
   "metadata": {},
   "outputs": [],
   "source": []
  },
  {
   "cell_type": "code",
   "execution_count": null,
   "metadata": {},
   "outputs": [],
   "source": []
  },
  {
   "cell_type": "code",
   "execution_count": null,
   "metadata": {},
   "outputs": [],
   "source": []
  },
  {
   "cell_type": "code",
   "execution_count": null,
   "metadata": {},
   "outputs": [],
   "source": []
  },
  {
   "cell_type": "code",
   "execution_count": null,
   "metadata": {},
   "outputs": [],
   "source": []
  }
 ],
 "metadata": {
  "kernelspec": {
   "display_name": "Python 3",
   "language": "python",
   "name": "python3"
  },
  "language_info": {
   "codemirror_mode": {
    "name": "ipython",
    "version": 3
   },
   "file_extension": ".py",
   "mimetype": "text/x-python",
   "name": "python",
   "nbconvert_exporter": "python",
   "pygments_lexer": "ipython3",
   "version": "3.6.4"
  }
 },
 "nbformat": 4,
 "nbformat_minor": 2
}
